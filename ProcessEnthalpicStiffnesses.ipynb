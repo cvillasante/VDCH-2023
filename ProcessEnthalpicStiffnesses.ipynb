{
 "cells": [
  {
   "cell_type": "markdown",
   "metadata": {},
   "source": [
    "### Analyze the stiffnesses calculated from all files\n",
    "This notebook removes outliers from the calculated stiffnesses and calculates the average stiffnesses for each construct and condition as reported in the paper. Then it calculates the stiffness of PCDH15 alone (accounting for the anchors in series with the protein). This notebook also propagates the errors.\n",
    "\n",
    "Camila Villasante <br>\n",
    "10-18-2023"
   ]
  },
  {
   "cell_type": "code",
   "execution_count": null,
   "metadata": {},
   "outputs": [],
   "source": [
    "# Import modules\n",
    "import pickle\n",
    "import numpy as np\n",
    "import pandas as pd\n",
    "from scipy import stats"
   ]
  },
  {
   "cell_type": "code",
   "execution_count": null,
   "metadata": {},
   "outputs": [],
   "source": [
    "# Import pickle file generated from CalculateEnthalpicStiffnesses_20231018.py\n",
    "file_to_read = open(PATH TO FILE, \"rb\")\n",
    "analysis_output = pickle.load(file_to_read)"
   ]
  },
  {
   "cell_type": "code",
   "execution_count": null,
   "metadata": {},
   "outputs": [],
   "source": [
    "# Assign the stiffness values to different lists based on construct and condition\n",
    "\n",
    "#V507D\n",
    "V507DDimer_3 = analysis_output['V507DDimer_3']\n",
    "V507DDimer_20 = analysis_output['V507DDimer_20']\n",
    "V507DDimer_0 = analysis_output['V507DDimer_0']\n",
    "\n",
    "# Wild type\n",
    "Dimer_3 = analysis_output['Dimer_3']\n",
    "Dimer_20 = analysis_output['Dimer_20']\n",
    "Dimer_0 = analysis_output['Dimer_0']\n",
    "\n",
    "# Anchors\n",
    "Anchors_3 = analysis_output['Anchors']"
   ]
  },
  {
   "cell_type": "code",
   "execution_count": null,
   "metadata": {},
   "outputs": [],
   "source": [
    "# Flatten lists because they are lists of lists right now\n",
    "V507DDimer_3 = [i for sublist in V507DDimer_3 for i in sublist]\n",
    "V507DDimer_20 = [i for sublist in V507DDimer_20 for i in sublist]\n",
    "V507DDimer_0 = [i for sublist in V507DDimer_0 for i in sublist]\n",
    "\n",
    "Dimer_3 = [i for sublist in Dimer_3 for i in sublist]\n",
    "Dimer_20 = [i for sublist in Dimer_20 for i in sublist]\n",
    "Dimer_0 = [i for sublist in Dimer_0 for i in sublist]\n",
    "\n",
    "Anchors_3 = [i for sublist in Anchors_3 for i in sublist]\n"
   ]
  },
  {
   "cell_type": "code",
   "execution_count": null,
   "metadata": {},
   "outputs": [],
   "source": [
    "# Make dataframe of all stiffnesses to make processing easier\n",
    "stiffnesses_df = pd.DataFrame({'V507DDimer_3':pd.Series(V507DDimer_3),'V507DDimer_20':pd.Series(V507DDimer_20),'V507DDimer_0':pd.Series(V507DDimer_0),'Dimer_3':pd.Series(Dimer_3),'Dimer_20':pd.Series(Dimer_20),'Dimer_0':pd.Series(Dimer_0), 'Anchors_3':pd.Series(Anchors_3)})\n"
   ]
  },
  {
   "cell_type": "code",
   "execution_count": null,
   "metadata": {},
   "outputs": [],
   "source": [
    "# Remove outliers\n",
    "\n",
    "# Inititate lists to add values to\n",
    "stiffnesses_wo_outliers = []\n",
    "sems=[] # SEMs \n",
    "stds=[] # Standard deviations\n",
    "for col in stiffnesses_df: \n",
    "    print('There are',stiffnesses_df[col].notna().sum(),'values in', col)\n",
    "    print('Mean is',np.nanmean(stiffnesses_df[col]))\n",
    "    \n",
    "    # Calculate IQR\n",
    "    stiffnesses_Q1 = np.percentile(stiffnesses_df[col], 25, interpolation = 'midpoint')\n",
    "    stiffnesses_Q3 = np.percentile(stiffnesses_df[col], 75, interpolation = 'midpoint')\n",
    "    stiffnesses_IQR = stiffnesses_Q3 - stiffnesses_Q1\n",
    "    \n",
    "    # Upper bound of values to keep is third quartile + 1.5*IQR\n",
    "    stiffnesses_upper = np.where(stiffnesses_df[col] >= (stiffnesses_Q3+1.5*stiffnesses_IQR))\n",
    "    # Lower bound of values to keep is first quartile - 1.5*IQR\n",
    "    stiffnesses_lower = np.where(stiffnesses_df[col] <= (stiffnesses_Q1-1.5*stiffnesses_IQR))\n",
    "\n",
    "    # Drop outliers outside of upper and lower bounds\n",
    "    stiffnesses_df.drop(dydx_upper[0], inplace = True)\n",
    "    stiffnesses_df.drop(dydx_lower[0], inplace = True)\n",
    "\n",
    "    # Mean without outliers\n",
    "    avg_stiffness = np.nanmean(stiffness_df[col])\n",
    "    stiffnesses_wo_outliers.append(avg_stiffness)\n",
    "    sem = stats.sem(stiffness_df[col].dropna())\n",
    "    sems.append(sem)\n",
    "    std = np.std(stiffness_df[col].dropna())\n",
    "    stds.append(std)\n",
    "    print('Mean without outliers is',avg_stiffnesses,'+/-', sem)\n"
   ]
  },
  {
   "cell_type": "code",
   "execution_count": null,
   "metadata": {},
   "outputs": [],
   "source": [
    "# Calculate stiffness of PCDH15 alone (need to account for the anchors in series)\n",
    "# Treat PCDH15 and the anchors as two springs in series\n",
    "\n",
    "# Define stiffnesses for each construct and condition from output in previous cell\n",
    "k_tot_V507DDimer_3 = stiffnesses_wo_outliers[0]\n",
    "k_tot_V507DDimer_20 = stiffnesses_wo_outliers[1]\n",
    "k_tot_V507DDimer_0 = stiffnesses_wo_outliers[2]\n",
    "k_tot_Dimer_3 = stiffnesses_wo_outliers[3]\n",
    "k_tot_Dimer_20 = stiffnesses_wo_outliers[4]\n",
    "k_tot_Dimer_0 = stiffnesses_wo_outliers[5]\n",
    "k_anchors = stiffnesses_wo_outliers[6]\n",
    "\n",
    "# Calculate stiffness of PCDH15 alone for each construct and condition\n",
    "k_V507DDimer_3 = (k_tot_V507DDimer_3*k_anchors)/(k_anchors - k_tot_V507DDimer_3)\n",
    "k_V507DDimer_20 = (k_tot_V507DDimer_20*k_anchors)/(k_anchors - k_tot_V507DDimer_20)\n",
    "k_V507DDimer_0 = (k_tot_V507DDimer_0*k_anchors)/(k_anchors - k_tot_V507DDimer_0)\n",
    "k_Dimer_3 = (k_tot_Dimer_3*k_anchors)/(k_anchors - k_tot_Dimer_3)\n",
    "k_Dimer_20 = (k_tot_Dimer_20*k_anchors)/(k_anchors - k_tot_Dimer_20)\n",
    "k_Dimer_0 = (k_tot_Dimer_0*k_anchors)/(k_anchors - k_tot_Dimer_0)\n"
   ]
  },
  {
   "cell_type": "markdown",
   "metadata": {},
   "source": [
    "### Error propagation"
   ]
  },
  {
   "cell_type": "code",
   "execution_count": null,
   "metadata": {},
   "outputs": [],
   "source": [
    "# Define SEMs for each construct and condition from calculation above\n",
    "sem_V507DDimer_3 = sems[0]\n",
    "sem_V507DDimer_20 = sems[1]\n",
    "sem_V507DDimer_0 = sems[2]\n",
    "\n",
    "sem_Dimer_3 = sems[3]\n",
    "sem_Dimer_20 = sems[4]\n",
    "sem_Dimer_0 = sems[5]\n",
    "\n",
    "sem_anchors_3 = sems[6]"
   ]
  },
  {
   "cell_type": "code",
   "execution_count": null,
   "metadata": {},
   "outputs": [],
   "source": [
    "## Equations for error propgation\n",
    "# V507D, 3 mM Ca2+\n",
    "numerator_V507DDimer_3 = k_tot_V507DDimer_3*k_anchors\n",
    "denominator_V507DDimer_3 = k_anchors-k_tot_V507DDimer_3\n",
    "\n",
    "error_numerator_V507DDimer_3 = numerator_V507DDimer_3*np.sqrt((sem_toypeptide_3/k_anchors)**2+(sem_V507DDimer_3/k_tot_V507DDimer_3)**2)\n",
    "error_denominator_V507DDimer_3 = np.sqrt((sem_toypeptide_3)**2+(sem_V507DDimer_3)**2)\n",
    "error_total_V507DDimer_3 = (k_V507DDimer_3)*np.sqrt((error_denominator_V507DDimer_3/denominator_V507DDimer_3)**2+(error_numerator_V507DDimer_3/(numerator_V507DDimer_3))**2)\n",
    "\n",
    "# V507D, 20 uM Ca2+\n",
    "numerator_V507DDimer_20 = k_tot_V507DDimer_20*k_anchors\n",
    "denominator_V507DDimer_20 = k_anchors-k_tot_V507DDimer_20\n",
    "\n",
    "error_numerator_V507DDimer_20 = numerator_V507DDimer_20*np.sqrt((sem_toypeptide_3/k_anchors)**2+(sem_V507DDimer_20/k_tot_V507DDimer_20)**2)\n",
    "error_denominator_V507DDimer_20 = np.sqrt((sem_toypeptide_3)**2+(sem_V507DDimer_20)**2)\n",
    "error_total_V507DDimer_20 = (k_V507DDimer_20)*np.sqrt((error_denominator_V507DDimer_20/denominator_V507DDimer_20)**2+(error_numerator_V507DDimer_20/(numerator_V507DDimer_20))**2)\n",
    "\n",
    "# V507D, 0 M Ca2+ 1 mM EDTA\n",
    "numerator_V507DDimer_0 = k_tot_V507DDimer_0*k_anchors\n",
    "denominator_V507DDimer_0 = k_anchors-k_tot_V507DDimer_0\n",
    "\n",
    "error_numerator_V507DDimer_0 = numerator_V507DDimer_0*np.sqrt((sem_toypeptide_3/k_anchors)**2+(sem_V507DDimer_0/k_tot_V507DDimer_0)**2)\n",
    "error_denominator_V507DDimer_0 = np.sqrt((sem_toypeptide_3)**2+(sem_V507DDimer_0)**2)\n",
    "error_total_V507DDimer_0 = (k_V507DDimer_0)*np.sqrt((error_denominator_V507DDimer_0/denominator_V507DDimer_0)**2+(error_numerator_V507DDimer_0/(numerator_V507DDimer_0))**2)\n"
   ]
  },
  {
   "cell_type": "code",
   "execution_count": null,
   "metadata": {},
   "outputs": [],
   "source": [
    "## Equations for error propgation\n",
    "# Wild type, 3 mM Ca2+\n",
    "numerator_Dimer_3 = k_tot_Dimer_3*k_anchors\n",
    "denominator_Dimer_3 = k_anchors-k_tot_Dimer_3\n",
    "\n",
    "error_numerator_Dimer_3 = numerator_Dimer_3*np.sqrt((sem_toypeptide_3/k_anchors)**2+(sem_Dimer_3/k_tot_Dimer_3)**2)\n",
    "error_denominator_Dimer_3 = np.sqrt((sem_toypeptide_3)**2+(sem_Dimer_3)**2)\n",
    "error_total_Dimer_3 = (k_Dimer_3)*np.sqrt((error_denominator_Dimer_3/denominator_Dimer_3)**2+(error_numerator_Dimer_3/(numerator_Dimer_3))**2)\n",
    "\n",
    "# Wild type, 20 uM Ca2+\n",
    "numerator_Dimer_20 = k_tot_Dimer_20*k_anchors\n",
    "denominator_Dimer_20 = k_anchors-k_tot_Dimer_20\n",
    "\n",
    "error_numerator_Dimer_20 = numerator_Dimer_20*np.sqrt((sem_toypeptide_3/k_anchors)**2+(sem_Dimer_20/k_tot_Dimer_20)**2)\n",
    "error_denominator_Dimer_20 = np.sqrt((sem_toypeptide_3)**2+(sem_Dimer_20)**2)\n",
    "error_total_Dimer_20 = (k_Dimer_20)*np.sqrt((error_denominator_Dimer_20/denominator_Dimer_20)**2+(error_numerator_Dimer_20/(numerator_Dimer_20))**2)\n",
    "\n",
    "# Wild type, 0 M Ca2+ 1 mM EDTA\n",
    "numerator_Dimer_0 = k_tot_Dimer_0*k_anchors\n",
    "denominator_Dimer_0 = k_anchors-k_tot_Dimer_0\n",
    "\n",
    "error_numerator_Dimer_0 = numerator_Dimer_0*np.sqrt((sem_toypeptide_3/k_anchors)**2+(sem_Dimer_0/k_tot_Dimer_0)**2)\n",
    "error_denominator_Dimer_0 = np.sqrt((sem_toypeptide_3)**2+(sem_Dimer_0)**2)\n",
    "error_total_Dimer_0 = (k_Dimer_0)*np.sqrt((error_denominator_Dimer_0/denominator_Dimer_0)**2+(error_numerator_Dimer_0/(numerator_Dimer_0))**2)\n"
   ]
  }
 ],
 "metadata": {
  "kernelspec": {
   "display_name": "Python 3",
   "language": "python",
   "name": "python3"
  },
  "language_info": {
   "codemirror_mode": {
    "name": "ipython",
    "version": 3
   },
   "file_extension": ".py",
   "mimetype": "text/x-python",
   "name": "python",
   "nbconvert_exporter": "python",
   "pygments_lexer": "ipython3",
   "version": "3.7.6"
  }
 },
 "nbformat": 4,
 "nbformat_minor": 4
}
